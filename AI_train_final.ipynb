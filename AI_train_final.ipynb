{
  "nbformat": 4,
  "nbformat_minor": 0,
  "metadata": {
    "colab": {
      "provenance": []
    },
    "kernelspec": {
      "name": "python3",
      "display_name": "Python 3"
    },
    "language_info": {
      "name": "python"
    }
  },
  "cells": [
    {
      "cell_type": "markdown",
      "source": [
        "# **인공지능 모델 학습**"
      ],
      "metadata": {
        "id": "Yd54IoWLFd7z"
      }
    },
    {
      "cell_type": "code",
      "execution_count": 101,
      "metadata": {
        "id": "C61LCv0LFGO6"
      },
      "outputs": [],
      "source": [
        "import pandas as pd\n",
        "import numpy as np\n",
        "import matplotlib.pyplot as plt\n",
        "import tensorflow as tf\n",
        "import keras\n",
        "from sklearn.model_selection import train_test_split\n",
        "from sklearn.ensemble import RandomForestClassifier\n",
        "from sklearn.metrics import accuracy_score\n",
        "import joblib\n",
        "import pickle\n",
        "from pickle import dump\n",
        "import warnings\n",
        "from keras.callbacks import EarlyStopping, ModelCheckpoint\n",
        "from sklearn.preprocessing import RobustScaler\n",
        "from sklearn.preprocessing import MinMaxScaler\n",
        "\n",
        "warnings.filterwarnings('ignore')"
      ]
    },
    {
      "cell_type": "code",
      "source": [
        "# 난수의 시드값 지정\n",
        "np.random.seed(1)\n",
        "tf.random.set_seed(1)\n",
        "\n",
        "# 기본 하이퍼파라미터 지정\n",
        "learning_rate = 0.001 # optimizer에 지정할 학습률\n",
        "N_EPOCHS = 300 # 학습 횟수\n",
        "N_BATCH = 64 # batch size"
      ],
      "metadata": {
        "id": "mdI6C_HuCZ-i"
      },
      "execution_count": 102,
      "outputs": []
    },
    {
      "cell_type": "code",
      "source": [
        "# 데이터 불러오기 _ pd.read_csv('경로/파일명')\n",
        "data = pd.read_csv('/content/공기질데이터.csv')\n",
        "\n",
        "#데이터 확인\n",
        "print(data.shape)\n",
        "data.head(2)"
      ],
      "metadata": {
        "colab": {
          "base_uri": "https://localhost:8080/",
          "height": 130
        },
        "id": "RCXOYEv6FZKc",
        "outputId": "1866f3eb-3796-4a5d-a66d-8bd8ebe1feee"
      },
      "execution_count": 103,
      "outputs": [
        {
          "output_type": "stream",
          "name": "stdout",
          "text": [
            "(60321, 17)\n"
          ]
        },
        {
          "output_type": "execute_result",
          "data": {
            "text/plain": [
              "              dateTime  PM10  PM25  co1   temp  humi    co2    voc   hcho  \\\n",
              "0  2022-09-07 07:34:00  5.00  4.00  0.0  23.60  43.6  985.0  34.00  100.0   \n",
              "1  2022-09-07 07:34:30  5.75  4.75  0.0  23.65  43.7  985.0  36.25  100.0   \n",
              "\n",
              "   volt    amp    external_dateTime  external_PM10  external_PM25  \\\n",
              "0  10.0  170.0  2022-09-07 07:34:00          32.60       13.86700   \n",
              "1  11.0  155.5  2022-09-07 07:34:30          32.55       13.85025   \n",
              "\n",
              "   external_co1  external_temp  external_humi  \n",
              "0       0.34300       17.11300           97.0  \n",
              "1       0.34225       17.11475           97.0  "
            ],
            "text/html": [
              "\n",
              "  <div id=\"df-e6a58c55-c222-423c-9104-56fc916ae77d\">\n",
              "    <div class=\"colab-df-container\">\n",
              "      <div>\n",
              "<style scoped>\n",
              "    .dataframe tbody tr th:only-of-type {\n",
              "        vertical-align: middle;\n",
              "    }\n",
              "\n",
              "    .dataframe tbody tr th {\n",
              "        vertical-align: top;\n",
              "    }\n",
              "\n",
              "    .dataframe thead th {\n",
              "        text-align: right;\n",
              "    }\n",
              "</style>\n",
              "<table border=\"1\" class=\"dataframe\">\n",
              "  <thead>\n",
              "    <tr style=\"text-align: right;\">\n",
              "      <th></th>\n",
              "      <th>dateTime</th>\n",
              "      <th>PM10</th>\n",
              "      <th>PM25</th>\n",
              "      <th>co1</th>\n",
              "      <th>temp</th>\n",
              "      <th>humi</th>\n",
              "      <th>co2</th>\n",
              "      <th>voc</th>\n",
              "      <th>hcho</th>\n",
              "      <th>volt</th>\n",
              "      <th>amp</th>\n",
              "      <th>external_dateTime</th>\n",
              "      <th>external_PM10</th>\n",
              "      <th>external_PM25</th>\n",
              "      <th>external_co1</th>\n",
              "      <th>external_temp</th>\n",
              "      <th>external_humi</th>\n",
              "    </tr>\n",
              "  </thead>\n",
              "  <tbody>\n",
              "    <tr>\n",
              "      <th>0</th>\n",
              "      <td>2022-09-07 07:34:00</td>\n",
              "      <td>5.00</td>\n",
              "      <td>4.00</td>\n",
              "      <td>0.0</td>\n",
              "      <td>23.60</td>\n",
              "      <td>43.6</td>\n",
              "      <td>985.0</td>\n",
              "      <td>34.00</td>\n",
              "      <td>100.0</td>\n",
              "      <td>10.0</td>\n",
              "      <td>170.0</td>\n",
              "      <td>2022-09-07 07:34:00</td>\n",
              "      <td>32.60</td>\n",
              "      <td>13.86700</td>\n",
              "      <td>0.34300</td>\n",
              "      <td>17.11300</td>\n",
              "      <td>97.0</td>\n",
              "    </tr>\n",
              "    <tr>\n",
              "      <th>1</th>\n",
              "      <td>2022-09-07 07:34:30</td>\n",
              "      <td>5.75</td>\n",
              "      <td>4.75</td>\n",
              "      <td>0.0</td>\n",
              "      <td>23.65</td>\n",
              "      <td>43.7</td>\n",
              "      <td>985.0</td>\n",
              "      <td>36.25</td>\n",
              "      <td>100.0</td>\n",
              "      <td>11.0</td>\n",
              "      <td>155.5</td>\n",
              "      <td>2022-09-07 07:34:30</td>\n",
              "      <td>32.55</td>\n",
              "      <td>13.85025</td>\n",
              "      <td>0.34225</td>\n",
              "      <td>17.11475</td>\n",
              "      <td>97.0</td>\n",
              "    </tr>\n",
              "  </tbody>\n",
              "</table>\n",
              "</div>\n",
              "      <button class=\"colab-df-convert\" onclick=\"convertToInteractive('df-e6a58c55-c222-423c-9104-56fc916ae77d')\"\n",
              "              title=\"Convert this dataframe to an interactive table.\"\n",
              "              style=\"display:none;\">\n",
              "        \n",
              "  <svg xmlns=\"http://www.w3.org/2000/svg\" height=\"24px\"viewBox=\"0 0 24 24\"\n",
              "       width=\"24px\">\n",
              "    <path d=\"M0 0h24v24H0V0z\" fill=\"none\"/>\n",
              "    <path d=\"M18.56 5.44l.94 2.06.94-2.06 2.06-.94-2.06-.94-.94-2.06-.94 2.06-2.06.94zm-11 1L8.5 8.5l.94-2.06 2.06-.94-2.06-.94L8.5 2.5l-.94 2.06-2.06.94zm10 10l.94 2.06.94-2.06 2.06-.94-2.06-.94-.94-2.06-.94 2.06-2.06.94z\"/><path d=\"M17.41 7.96l-1.37-1.37c-.4-.4-.92-.59-1.43-.59-.52 0-1.04.2-1.43.59L10.3 9.45l-7.72 7.72c-.78.78-.78 2.05 0 2.83L4 21.41c.39.39.9.59 1.41.59.51 0 1.02-.2 1.41-.59l7.78-7.78 2.81-2.81c.8-.78.8-2.07 0-2.86zM5.41 20L4 18.59l7.72-7.72 1.47 1.35L5.41 20z\"/>\n",
              "  </svg>\n",
              "      </button>\n",
              "      \n",
              "  <style>\n",
              "    .colab-df-container {\n",
              "      display:flex;\n",
              "      flex-wrap:wrap;\n",
              "      gap: 12px;\n",
              "    }\n",
              "\n",
              "    .colab-df-convert {\n",
              "      background-color: #E8F0FE;\n",
              "      border: none;\n",
              "      border-radius: 50%;\n",
              "      cursor: pointer;\n",
              "      display: none;\n",
              "      fill: #1967D2;\n",
              "      height: 32px;\n",
              "      padding: 0 0 0 0;\n",
              "      width: 32px;\n",
              "    }\n",
              "\n",
              "    .colab-df-convert:hover {\n",
              "      background-color: #E2EBFA;\n",
              "      box-shadow: 0px 1px 2px rgba(60, 64, 67, 0.3), 0px 1px 3px 1px rgba(60, 64, 67, 0.15);\n",
              "      fill: #174EA6;\n",
              "    }\n",
              "\n",
              "    [theme=dark] .colab-df-convert {\n",
              "      background-color: #3B4455;\n",
              "      fill: #D2E3FC;\n",
              "    }\n",
              "\n",
              "    [theme=dark] .colab-df-convert:hover {\n",
              "      background-color: #434B5C;\n",
              "      box-shadow: 0px 1px 3px 1px rgba(0, 0, 0, 0.15);\n",
              "      filter: drop-shadow(0px 1px 2px rgba(0, 0, 0, 0.3));\n",
              "      fill: #FFFFFF;\n",
              "    }\n",
              "  </style>\n",
              "\n",
              "      <script>\n",
              "        const buttonEl =\n",
              "          document.querySelector('#df-e6a58c55-c222-423c-9104-56fc916ae77d button.colab-df-convert');\n",
              "        buttonEl.style.display =\n",
              "          google.colab.kernel.accessAllowed ? 'block' : 'none';\n",
              "\n",
              "        async function convertToInteractive(key) {\n",
              "          const element = document.querySelector('#df-e6a58c55-c222-423c-9104-56fc916ae77d');\n",
              "          const dataTable =\n",
              "            await google.colab.kernel.invokeFunction('convertToInteractive',\n",
              "                                                     [key], {});\n",
              "          if (!dataTable) return;\n",
              "\n",
              "          const docLinkHtml = 'Like what you see? Visit the ' +\n",
              "            '<a target=\"_blank\" href=https://colab.research.google.com/notebooks/data_table.ipynb>data table notebook</a>'\n",
              "            + ' to learn more about interactive tables.';\n",
              "          element.innerHTML = '';\n",
              "          dataTable['output_type'] = 'display_data';\n",
              "          await google.colab.output.renderOutput(dataTable, element);\n",
              "          const docLink = document.createElement('div');\n",
              "          docLink.innerHTML = docLinkHtml;\n",
              "          element.appendChild(docLink);\n",
              "        }\n",
              "      </script>\n",
              "    </div>\n",
              "  </div>\n",
              "  "
            ]
          },
          "metadata": {},
          "execution_count": 103
        }
      ]
    },
    {
      "cell_type": "code",
      "source": [
        "# 소수점 첫째 자리까지 수치들을 반올림\n",
        "\n",
        "columns = ['PM25', 'external_PM10', 'external_PM25', 'external_humi', 'external_temp', 'external_co1']\n",
        "\n",
        "for col in columns:\n",
        "  column = col\n",
        "  where = 1  # 소수점 몇번째 자리까지 반올림할 것인지\n",
        "\n",
        "  data[column]= round(data[column], where)\n"
      ],
      "metadata": {
        "id": "aYVLEby0wjgM"
      },
      "execution_count": 104,
      "outputs": []
    },
    {
      "cell_type": "code",
      "source": [
        "# 데이터 이상치 제거\n",
        "\n",
        "def get_outlier(df=None, column=None, weight=1.5):\n",
        "\n",
        "  quantile_25 = np.percentile(df[column].values, 25)\n",
        "  quantile_75 = np.percentile(df[column].values, 75)\n",
        "\n",
        "  IQR = quantile_75 - quantile_25\n",
        "  IQR_weight = IQR*weight\n",
        "  \n",
        "  lowest = quantile_25 - IQR_weight\n",
        "  highest = quantile_75 + IQR_weight\n",
        "  \n",
        "  outlier_idx = df[column][ (df[column] < lowest) | (df[column] > highest) ].index\n",
        "  return outlier_idx\n",
        "\n",
        "# 함수 사용해서 이상치 값 삭제\n",
        "# oulier_idx = get_outlier(df=df, column='A', weight=1.5)\n",
        "# df.drop(outlier_idx, axis=0, inplace=True)\n",
        "\n",
        "for col in columns:\n",
        "  outlier_idx = get_outlier(df=data, column=col, weight=1.5)\n",
        "  print('아래의 이상치 데이터를 삭제했습니다.')\n",
        "  print(outlier_idx)\n",
        "  data.drop(outlier_idx, axis=0, inplace=True)"
      ],
      "metadata": {
        "colab": {
          "base_uri": "https://localhost:8080/"
        },
        "id": "5n230YupkEk6",
        "outputId": "066ece71-e47a-41aa-eec4-111b000a952f"
      },
      "execution_count": 105,
      "outputs": [
        {
          "output_type": "stream",
          "name": "stdout",
          "text": [
            "아래의 이상치 데이터를 삭제했습니다.\n",
            "Int64Index([14540, 28868, 28878, 29304, 29504, 40181, 40182, 40183, 45969,\n",
            "            45970, 45971],\n",
            "           dtype='int64')\n",
            "아래의 이상치 데이터를 삭제했습니다.\n",
            "Int64Index([    0,     1,     2,     3,     4,     5,     6,     7,     8,\n",
            "                9,\n",
            "            ...\n",
            "            31059, 31060, 31061, 31062, 31063, 31064, 31065, 31066, 31067,\n",
            "            31068],\n",
            "           dtype='int64', length=725)\n",
            "아래의 이상치 데이터를 삭제했습니다.\n",
            "Int64Index([29666, 29667, 29668, 29669, 29670, 29671, 29672, 29673, 29674,\n",
            "            29675,\n",
            "            ...\n",
            "            32226, 32227, 32228, 32229, 32230, 56689, 56690, 56691, 56692,\n",
            "            56693],\n",
            "           dtype='int64', length=813)\n",
            "아래의 이상치 데이터를 삭제했습니다.\n",
            "Int64Index([52579, 52580, 52581, 52582, 52583, 52584, 52585, 52586, 52587,\n",
            "            52588,\n",
            "            ...\n",
            "            52733, 52734, 52735, 52736, 52737, 52738, 52739, 52740, 52741,\n",
            "            52742],\n",
            "           dtype='int64', length=164)\n",
            "아래의 이상치 데이터를 삭제했습니다.\n",
            "Int64Index([], dtype='int64')\n",
            "아래의 이상치 데이터를 삭제했습니다.\n",
            "Int64Index([   11,    12,    13,    14,    15,    16,    17,    18,    19,\n",
            "               20,\n",
            "            ...\n",
            "            59502, 59503, 59504, 59505, 59506, 59507, 59508, 59509, 59510,\n",
            "            59511],\n",
            "           dtype='int64', length=20260)\n"
          ]
        }
      ]
    },
    {
      "cell_type": "code",
      "source": [
        "f_names = ['external_PM10', 'external_PM25', 'external_co1', 'external_temp', 'external_humi'] \n",
        "t_name = ['PM25']\n",
        "\n",
        "X = data[f_names]\n",
        "y = data[t_name]\n",
        "\n",
        "# 학습용 데이터와 검증용 데이터를 분리 (8:2 비율)\n",
        "x_train, x_test, y_train, y_test = train_test_split(X, y, test_size = 0.2)"
      ],
      "metadata": {
        "id": "wMZ50U5TCDdP"
      },
      "execution_count": 106,
      "outputs": []
    },
    {
      "cell_type": "code",
      "source": [
        "# 데이터 스케일 조정\n",
        "\n",
        "rbs = RobustScaler()\n",
        "x_train_scaled = rbs.fit_transform(x_train)\n",
        "x_test_scaled = rbs.transform(x_test)"
      ],
      "metadata": {
        "id": "sq0MV2MfqrSK"
      },
      "execution_count": 107,
      "outputs": []
    },
    {
      "cell_type": "code",
      "source": [
        "train_dataset = tf.data.Dataset.from_tensor_slices((x_train_scaled, y_train))\\\n",
        ".shuffle(50000)\\\n",
        ".batch(N_BATCH, drop_remainder=True)\\\n",
        ".repeat()\n",
        "\n",
        "test_dataset = tf.data.Dataset.from_tensor_slices((x_test_scaled, y_test)).batch(N_BATCH)"
      ],
      "metadata": {
        "id": "WoTKlsgfFNe5"
      },
      "execution_count": 108,
      "outputs": []
    },
    {
      "cell_type": "code",
      "source": [
        "from sklearn.preprocessing import MinMaxScaler\n",
        "\n"
      ],
      "metadata": {
        "id": "RkvFqI2mr-Ap"
      },
      "execution_count": 109,
      "outputs": []
    },
    {
      "cell_type": "code",
      "source": [
        "from threading import active_count\n",
        "def create_model():\n",
        "  # 모델 생성\n",
        "  model = keras.Sequential()\n",
        "  model.add(keras.layers.Dense(units=16, activation='relu'))\n",
        "  model.add(keras.layers.Dense(units=8, activation='relu'))\n",
        "  model.add(keras.layers.Dense(units=4, activation='relu'))\n",
        "  model.add(keras.layers.Dense(units=1))\n",
        "\n",
        "  return model"
      ],
      "metadata": {
        "id": "tCx65tTVF2oQ"
      },
      "execution_count": 110,
      "outputs": []
    },
    {
      "cell_type": "code",
      "source": [
        "# 모델 컴파일 \n",
        "model = create_model()\n",
        "model.compile(optimizer=tf.keras.optimizers.Adam(learning_rate=learning_rate), loss='mse')"
      ],
      "metadata": {
        "id": "5hkZiLy4HC_t"
      },
      "execution_count": 111,
      "outputs": []
    },
    {
      "cell_type": "code",
      "source": [
        "steps_per_epoch = x_train_scaled.shape[0] // N_BATCH\n",
        "validation_steps = int(np.ceil(x_test_scaled.shape[0]/N_BATCH))"
      ],
      "metadata": {
        "id": "m_14vjRIHUMy"
      },
      "execution_count": 112,
      "outputs": []
    },
    {
      "cell_type": "code",
      "source": [
        "es = EarlyStopping(monitor='val_loss', mode='min', verbose=1, patience=7)\n",
        "mc = ModelCheckpoint('best_model.h5', monitor='val_loss', mode='min', save_best_only=True)"
      ],
      "metadata": {
        "id": "NLBGwViawQ1g"
      },
      "execution_count": 113,
      "outputs": []
    },
    {
      "cell_type": "code",
      "source": [
        "# 모델 학습\n",
        "history = model.fit(train_dataset,\n",
        "                    epochs = N_EPOCHS,\n",
        "                    steps_per_epoch = steps_per_epoch,\n",
        "                    validation_data = test_dataset,\n",
        "                    validation_steps = validation_steps,\n",
        "                    callbacks=[es, mc])"
      ],
      "metadata": {
        "colab": {
          "base_uri": "https://localhost:8080/"
        },
        "id": "BRO90DN5H85C",
        "outputId": "16d536a8-dd83-4a07-a613-acf90190948c"
      },
      "execution_count": 114,
      "outputs": [
        {
          "output_type": "stream",
          "name": "stdout",
          "text": [
            "Epoch 1/300\n",
            "479/479 [==============================] - 1s 2ms/step - loss: 17.2057 - val_loss: 16.0887\n",
            "Epoch 2/300\n",
            "479/479 [==============================] - 1s 2ms/step - loss: 14.5224 - val_loss: 13.6982\n",
            "Epoch 3/300\n",
            "479/479 [==============================] - 1s 2ms/step - loss: 8.9649 - val_loss: 2.1675\n",
            "Epoch 4/300\n",
            "479/479 [==============================] - 1s 2ms/step - loss: 1.7288 - val_loss: 1.6717\n",
            "Epoch 5/300\n",
            "479/479 [==============================] - 1s 1ms/step - loss: 1.5244 - val_loss: 1.5747\n",
            "Epoch 6/300\n",
            "479/479 [==============================] - 1s 2ms/step - loss: 1.4300 - val_loss: 1.4616\n",
            "Epoch 7/300\n",
            "479/479 [==============================] - 1s 1ms/step - loss: 1.3369 - val_loss: 1.3650\n",
            "Epoch 8/300\n",
            "479/479 [==============================] - 1s 2ms/step - loss: 1.2440 - val_loss: 1.2586\n",
            "Epoch 9/300\n",
            "479/479 [==============================] - 1s 2ms/step - loss: 1.1500 - val_loss: 1.1707\n",
            "Epoch 10/300\n",
            "479/479 [==============================] - 1s 2ms/step - loss: 1.0674 - val_loss: 1.0996\n",
            "Epoch 11/300\n",
            "479/479 [==============================] - 1s 1ms/step - loss: 1.0026 - val_loss: 1.0360\n",
            "Epoch 12/300\n",
            "479/479 [==============================] - 1s 2ms/step - loss: 0.9529 - val_loss: 0.9777\n",
            "Epoch 13/300\n",
            "479/479 [==============================] - 1s 2ms/step - loss: 0.9187 - val_loss: 0.9464\n",
            "Epoch 14/300\n",
            "479/479 [==============================] - 1s 1ms/step - loss: 0.8944 - val_loss: 0.9302\n",
            "Epoch 15/300\n",
            "479/479 [==============================] - 1s 1ms/step - loss: 0.8705 - val_loss: 0.9065\n",
            "Epoch 16/300\n",
            "479/479 [==============================] - 1s 2ms/step - loss: 0.8522 - val_loss: 0.8858\n",
            "Epoch 17/300\n",
            "479/479 [==============================] - 1s 2ms/step - loss: 0.8312 - val_loss: 0.8665\n",
            "Epoch 18/300\n",
            "479/479 [==============================] - 1s 2ms/step - loss: 0.8133 - val_loss: 0.8586\n",
            "Epoch 19/300\n",
            "479/479 [==============================] - 1s 2ms/step - loss: 0.8021 - val_loss: 0.8454\n",
            "Epoch 20/300\n",
            "479/479 [==============================] - 1s 2ms/step - loss: 0.7908 - val_loss: 0.8281\n",
            "Epoch 21/300\n",
            "479/479 [==============================] - 1s 2ms/step - loss: 0.7803 - val_loss: 0.8141\n",
            "Epoch 22/300\n",
            "479/479 [==============================] - 1s 2ms/step - loss: 0.7708 - val_loss: 0.7870\n",
            "Epoch 23/300\n",
            "479/479 [==============================] - 1s 2ms/step - loss: 0.7561 - val_loss: 0.7846\n",
            "Epoch 24/300\n",
            "479/479 [==============================] - 1s 2ms/step - loss: 0.7437 - val_loss: 0.7747\n",
            "Epoch 25/300\n",
            "479/479 [==============================] - 1s 2ms/step - loss: 0.7361 - val_loss: 0.7734\n",
            "Epoch 26/300\n",
            "479/479 [==============================] - 1s 2ms/step - loss: 0.7276 - val_loss: 0.7504\n",
            "Epoch 27/300\n",
            "479/479 [==============================] - 1s 2ms/step - loss: 0.7215 - val_loss: 0.7444\n",
            "Epoch 28/300\n",
            "479/479 [==============================] - 1s 2ms/step - loss: 0.7200 - val_loss: 0.7382\n",
            "Epoch 29/300\n",
            "479/479 [==============================] - 1s 2ms/step - loss: 0.7099 - val_loss: 0.7290\n",
            "Epoch 30/300\n",
            "479/479 [==============================] - 1s 2ms/step - loss: 0.7039 - val_loss: 0.7178\n",
            "Epoch 31/300\n",
            "479/479 [==============================] - 1s 2ms/step - loss: 0.6998 - val_loss: 0.7281\n",
            "Epoch 32/300\n",
            "479/479 [==============================] - 1s 2ms/step - loss: 0.6958 - val_loss: 0.7130\n",
            "Epoch 33/300\n",
            "479/479 [==============================] - 1s 2ms/step - loss: 0.6919 - val_loss: 0.7127\n",
            "Epoch 34/300\n",
            "479/479 [==============================] - 1s 2ms/step - loss: 0.6892 - val_loss: 0.7020\n",
            "Epoch 35/300\n",
            "479/479 [==============================] - 1s 1ms/step - loss: 0.6843 - val_loss: 0.7065\n",
            "Epoch 36/300\n",
            "479/479 [==============================] - 1s 2ms/step - loss: 0.6790 - val_loss: 0.7092\n",
            "Epoch 37/300\n",
            "479/479 [==============================] - 1s 2ms/step - loss: 0.6776 - val_loss: 0.6934\n",
            "Epoch 38/300\n",
            "479/479 [==============================] - 1s 2ms/step - loss: 0.6749 - val_loss: 0.6986\n",
            "Epoch 39/300\n",
            "479/479 [==============================] - 1s 2ms/step - loss: 0.6723 - val_loss: 0.6927\n",
            "Epoch 40/300\n",
            "479/479 [==============================] - 1s 2ms/step - loss: 0.6692 - val_loss: 0.6979\n",
            "Epoch 41/300\n",
            "479/479 [==============================] - 1s 2ms/step - loss: 0.6633 - val_loss: 0.6800\n",
            "Epoch 42/300\n",
            "479/479 [==============================] - 1s 3ms/step - loss: 0.6631 - val_loss: 0.6778\n",
            "Epoch 43/300\n",
            "479/479 [==============================] - 1s 3ms/step - loss: 0.6617 - val_loss: 0.6799\n",
            "Epoch 44/300\n",
            "479/479 [==============================] - 1s 2ms/step - loss: 0.6593 - val_loss: 0.6711\n",
            "Epoch 45/300\n",
            "479/479 [==============================] - 1s 2ms/step - loss: 0.6575 - val_loss: 0.6695\n",
            "Epoch 46/300\n",
            "479/479 [==============================] - 1s 2ms/step - loss: 0.6546 - val_loss: 0.6822\n",
            "Epoch 47/300\n",
            "479/479 [==============================] - 1s 2ms/step - loss: 0.6538 - val_loss: 0.6755\n",
            "Epoch 48/300\n",
            "479/479 [==============================] - 1s 1ms/step - loss: 0.6547 - val_loss: 0.6682\n",
            "Epoch 49/300\n",
            "479/479 [==============================] - 1s 2ms/step - loss: 0.6526 - val_loss: 0.6632\n",
            "Epoch 50/300\n",
            "479/479 [==============================] - 1s 1ms/step - loss: 0.6532 - val_loss: 0.6639\n",
            "Epoch 51/300\n",
            "479/479 [==============================] - 1s 1ms/step - loss: 0.6491 - val_loss: 0.6711\n",
            "Epoch 52/300\n",
            "479/479 [==============================] - 1s 2ms/step - loss: 0.6485 - val_loss: 0.6653\n",
            "Epoch 53/300\n",
            "479/479 [==============================] - 1s 2ms/step - loss: 0.6479 - val_loss: 0.6620\n",
            "Epoch 54/300\n",
            "479/479 [==============================] - 1s 2ms/step - loss: 0.6442 - val_loss: 0.6630\n",
            "Epoch 55/300\n",
            "479/479 [==============================] - 1s 2ms/step - loss: 0.6415 - val_loss: 0.6560\n",
            "Epoch 56/300\n",
            "479/479 [==============================] - 1s 1ms/step - loss: 0.6406 - val_loss: 0.6547\n",
            "Epoch 57/300\n",
            "479/479 [==============================] - 1s 1ms/step - loss: 0.6371 - val_loss: 0.6733\n",
            "Epoch 58/300\n",
            "479/479 [==============================] - 1s 1ms/step - loss: 0.6368 - val_loss: 0.6610\n",
            "Epoch 59/300\n",
            "479/479 [==============================] - 1s 1ms/step - loss: 0.6383 - val_loss: 0.6475\n",
            "Epoch 60/300\n",
            "479/479 [==============================] - 1s 2ms/step - loss: 0.6349 - val_loss: 0.6476\n",
            "Epoch 61/300\n",
            "479/479 [==============================] - 1s 2ms/step - loss: 0.6359 - val_loss: 0.6461\n",
            "Epoch 62/300\n",
            "479/479 [==============================] - 1s 2ms/step - loss: 0.6328 - val_loss: 0.6772\n",
            "Epoch 63/300\n",
            "479/479 [==============================] - 1s 2ms/step - loss: 0.6339 - val_loss: 0.6589\n",
            "Epoch 64/300\n",
            "479/479 [==============================] - 1s 2ms/step - loss: 0.6315 - val_loss: 0.6597\n",
            "Epoch 65/300\n",
            "479/479 [==============================] - 1s 1ms/step - loss: 0.6290 - val_loss: 0.6679\n",
            "Epoch 66/300\n",
            "479/479 [==============================] - 1s 2ms/step - loss: 0.6310 - val_loss: 0.6502\n",
            "Epoch 67/300\n",
            "479/479 [==============================] - 2s 4ms/step - loss: 0.6301 - val_loss: 0.6387\n",
            "Epoch 68/300\n",
            "479/479 [==============================] - 1s 2ms/step - loss: 0.6276 - val_loss: 0.6351\n",
            "Epoch 69/300\n",
            "479/479 [==============================] - 1s 2ms/step - loss: 0.6293 - val_loss: 0.6388\n",
            "Epoch 70/300\n",
            "479/479 [==============================] - 1s 2ms/step - loss: 0.6301 - val_loss: 0.6379\n",
            "Epoch 71/300\n",
            "479/479 [==============================] - 1s 2ms/step - loss: 0.6282 - val_loss: 0.6390\n",
            "Epoch 72/300\n",
            "479/479 [==============================] - 1s 2ms/step - loss: 0.6239 - val_loss: 0.6333\n",
            "Epoch 73/300\n",
            "479/479 [==============================] - 1s 2ms/step - loss: 0.6263 - val_loss: 0.6537\n",
            "Epoch 74/300\n",
            "479/479 [==============================] - 1s 2ms/step - loss: 0.6251 - val_loss: 0.6402\n",
            "Epoch 75/300\n",
            "479/479 [==============================] - 1s 2ms/step - loss: 0.6237 - val_loss: 0.6432\n",
            "Epoch 76/300\n",
            "479/479 [==============================] - 1s 1ms/step - loss: 0.6273 - val_loss: 0.6341\n",
            "Epoch 77/300\n",
            "479/479 [==============================] - 1s 2ms/step - loss: 0.6219 - val_loss: 0.6467\n",
            "Epoch 78/300\n",
            "479/479 [==============================] - 1s 2ms/step - loss: 0.6242 - val_loss: 0.6313\n",
            "Epoch 79/300\n",
            "479/479 [==============================] - 1s 2ms/step - loss: 0.6216 - val_loss: 0.6269\n",
            "Epoch 80/300\n",
            "479/479 [==============================] - 1s 1ms/step - loss: 0.6200 - val_loss: 0.6321\n",
            "Epoch 81/300\n",
            "479/479 [==============================] - 1s 1ms/step - loss: 0.6240 - val_loss: 0.6302\n",
            "Epoch 82/300\n",
            "479/479 [==============================] - 1s 3ms/step - loss: 0.6218 - val_loss: 0.6417\n",
            "Epoch 83/300\n",
            "479/479 [==============================] - 1s 3ms/step - loss: 0.6205 - val_loss: 0.6379\n",
            "Epoch 84/300\n",
            "479/479 [==============================] - 1s 3ms/step - loss: 0.6185 - val_loss: 0.6277\n",
            "Epoch 85/300\n",
            "479/479 [==============================] - 1s 1ms/step - loss: 0.6168 - val_loss: 0.6304\n",
            "Epoch 86/300\n",
            "479/479 [==============================] - 1s 2ms/step - loss: 0.6183 - val_loss: 0.6495\n",
            "Epoch 86: early stopping\n"
          ]
        }
      ]
    },
    {
      "cell_type": "code",
      "source": [
        "model.evaluate(test_dataset)\n",
        "\n",
        "history.history.keys()"
      ],
      "metadata": {
        "colab": {
          "base_uri": "https://localhost:8080/"
        },
        "id": "_3gzg-OnH87O",
        "outputId": "05bda843-5ad3-46a5-b67e-c7234ffcd78d"
      },
      "execution_count": 115,
      "outputs": [
        {
          "output_type": "stream",
          "name": "stdout",
          "text": [
            "120/120 [==============================] - 0s 989us/step - loss: 0.6495\n"
          ]
        },
        {
          "output_type": "execute_result",
          "data": {
            "text/plain": [
              "dict_keys(['loss', 'val_loss'])"
            ]
          },
          "metadata": {},
          "execution_count": 115
        }
      ]
    },
    {
      "cell_type": "code",
      "source": [
        "plt.figure(figsize=(10,7))\n",
        "\n",
        "plt.plot(history.history['loss'], label='train loss')\n",
        "plt.plot(history.history['val_loss'], label='validation loss')\n",
        "\n",
        "plt.xlabel('Epoch')\n",
        "plt.ylabel('Loss')\n",
        "plt.legend()\n",
        "plt.show()"
      ],
      "metadata": {
        "colab": {
          "base_uri": "https://localhost:8080/",
          "height": 442
        },
        "id": "GMoFeN6JH89D",
        "outputId": "0bdf89fd-c878-4a00-a2a6-c9fa273998b5"
      },
      "execution_count": 116,
      "outputs": [
        {
          "output_type": "display_data",
          "data": {
            "text/plain": [
              "<Figure size 720x504 with 1 Axes>"
            ],
            "image/png": "[encoded data removed]"
          },
          "metadata": {
            "needs_background": "light"
          }
        }
      ]
    },
    {
      "cell_type": "code",
      "source": [
        "# y_test2 = []\n",
        "# for i in y_test['PM25']:\n",
        "#   if float(i) < 30:\n",
        "#     pass\n",
        "#   else:\n",
        "#     i = 0\n",
        "#   y_test2.append(i)"
      ],
      "metadata": {
        "id": "bOzJTXdJgH_7"
      },
      "execution_count": 117,
      "outputs": []
    },
    {
      "cell_type": "code",
      "source": [
        "y_pred = model.predict(x_test_scaled)\n",
        "\n",
        "for i,y in zip(range(len(y_pred)), y_pred):\n",
        "  if y < 0:\n",
        "    y_pred[i] = 0\n",
        "  y_pred[i] = np.round(y_pred[i], 2)"
      ],
      "metadata": {
        "colab": {
          "base_uri": "https://localhost:8080/"
        },
        "id": "jsy7fLZxr0Ut",
        "outputId": "e12bf641-150b-4be6-929b-c5a9b6cc7a69"
      },
      "execution_count": 118,
      "outputs": [
        {
          "output_type": "stream",
          "name": "stdout",
          "text": [
            "240/240 [==============================] - 0s 783us/step\n"
          ]
        }
      ]
    },
    {
      "cell_type": "code",
      "source": [
        "plt.figure(figsize=(10,7))\n",
        "\n",
        "plt.plot(range(100), y_test[0:100], label='real_data')\n",
        "plt.plot(range(100), y_pred[0:100], label='predicted_data')\n",
        "\n",
        "plt.legend()\n",
        "plt.show()"
      ],
      "metadata": {
        "colab": {
          "base_uri": "https://localhost:8080/",
          "height": 428
        },
        "id": "cedYGG1aftR7",
        "outputId": "4122db74-ce99-4326-b739-3668f5c47b0a"
      },
      "execution_count": 119,
      "outputs": [
        {
          "output_type": "display_data",
          "data": {
            "text/plain": [
              "<Figure size 720x504 with 1 Axes>"
            ],
            "image/png": "[encoded data removed]"
          },
          "metadata": {
            "needs_background": "light"
          }
        }
      ]
    },
    {
      "cell_type": "code",
      "source": [
        "x_test.to_csv('/content/test_data.csv')\n",
        "dump(rbs, open('/content/rbs_scaler.pkl', 'wb'))"
      ],
      "metadata": {
        "id": "S6ORx383ltkR"
      },
      "execution_count": 120,
      "outputs": []
    }
  ]
}